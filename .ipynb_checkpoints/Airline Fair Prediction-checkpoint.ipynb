{
 "cells": [
  {
   "cell_type": "code",
   "execution_count": 11,
   "id": "baec1d2a-d044-49e2-81d8-31472ebc948b",
   "metadata": {},
   "outputs": [
    {
     "name": "stderr",
     "output_type": "stream",
     "text": [
      "Warning message:\n",
      "\"package 'readxl' is in use and will not be installed\"\n"
     ]
    }
   ],
   "source": [
    "install.packages(\"readxl\")"
   ]
  },
  {
   "cell_type": "code",
   "execution_count": 12,
   "id": "94b1d874-1f98-4072-a06d-6471cd69858a",
   "metadata": {},
   "outputs": [],
   "source": [
    "library(\"readxl\")"
   ]
  },
  {
   "cell_type": "code",
   "execution_count": 13,
   "id": "c860acc4-63c6-471c-992b-3ca22d36ef2e",
   "metadata": {},
   "outputs": [],
   "source": [
    "train_set = read_excel(\"train.xlsx\")\n",
    "test_set = read_excel(\"test.xlsx\")"
   ]
  },
  {
   "cell_type": "code",
   "execution_count": 14,
   "id": "84ec3bad-2f44-4e44-adb9-4e127f966dc8",
   "metadata": {},
   "outputs": [
    {
     "data": {
      "text/html": [
       "<table class=\"dataframe\">\n",
       "<caption>A tibble: 6 × 11</caption>\n",
       "<thead>\n",
       "\t<tr><th scope=col>Airline</th><th scope=col>Date_of_Journey</th><th scope=col>Source</th><th scope=col>Destination</th><th scope=col>Route</th><th scope=col>Dep_Time</th><th scope=col>Arrival_Time</th><th scope=col>Duration</th><th scope=col>Total_Stops</th><th scope=col>Additional Info</th><th scope=col>Price</th></tr>\n",
       "\t<tr><th scope=col>&lt;chr&gt;</th><th scope=col>&lt;chr&gt;</th><th scope=col>&lt;chr&gt;</th><th scope=col>&lt;chr&gt;</th><th scope=col>&lt;chr&gt;</th><th scope=col>&lt;chr&gt;</th><th scope=col>&lt;chr&gt;</th><th scope=col>&lt;chr&gt;</th><th scope=col>&lt;chr&gt;</th><th scope=col>&lt;chr&gt;</th><th scope=col>&lt;dbl&gt;</th></tr>\n",
       "</thead>\n",
       "<tbody>\n",
       "\t<tr><td><span style=white-space:pre-wrap>IndiGo     </span></td><td>24/03/2019</td><td>Banglore</td><td>New Delhi</td><td><span style=white-space:pre-wrap>BLR &lt;U+2192&gt; DEL                          </span></td><td>22:20</td><td>01:10 22 Mar</td><td>2h 50m</td><td>non-stop</td><td>No info</td><td> 3898</td></tr>\n",
       "\t<tr><td><span style=white-space:pre-wrap>Air India  </span></td><td>1/05/2019 </td><td>Kolkata </td><td>Banglore </td><td>CCU &lt;U+2192&gt; IXR &lt;U+2192&gt; BBI &lt;U+2192&gt; BLR</td><td>05:50</td><td><span style=white-space:pre-wrap>13:15       </span></td><td>7h 25m</td><td>2 stops </td><td>No info</td><td> 7663</td></tr>\n",
       "\t<tr><td>Jet Airways</td><td>9/06/2019 </td><td><span style=white-space:pre-wrap>Delhi   </span></td><td><span style=white-space:pre-wrap>Cochin   </span></td><td>DEL &lt;U+2192&gt; LKO &lt;U+2192&gt; BOM &lt;U+2192&gt; COK</td><td>09:25</td><td>04:25 10 Jun</td><td><span style=white-space:pre-wrap>19h   </span></td><td>2 stops </td><td>No info</td><td>13883</td></tr>\n",
       "\t<tr><td><span style=white-space:pre-wrap>IndiGo     </span></td><td>12/05/2019</td><td>Kolkata </td><td>Banglore </td><td><span style=white-space:pre-wrap>CCU &lt;U+2192&gt; NAG &lt;U+2192&gt; BLR             </span></td><td>18:05</td><td><span style=white-space:pre-wrap>23:30       </span></td><td>5h 25m</td><td><span style=white-space:pre-wrap>1 stop  </span></td><td>No info</td><td> 6219</td></tr>\n",
       "\t<tr><td><span style=white-space:pre-wrap>IndiGo     </span></td><td>01/03/2019</td><td>Banglore</td><td>New Delhi</td><td><span style=white-space:pre-wrap>BLR &lt;U+2192&gt; NAG &lt;U+2192&gt; DEL             </span></td><td>16:50</td><td><span style=white-space:pre-wrap>21:35       </span></td><td>4h 45m</td><td><span style=white-space:pre-wrap>1 stop  </span></td><td>No info</td><td>13303</td></tr>\n",
       "\t<tr><td><span style=white-space:pre-wrap>SpiceJet   </span></td><td>24/06/2019</td><td>Kolkata </td><td>Banglore </td><td><span style=white-space:pre-wrap>CCU &lt;U+2192&gt; BLR                          </span></td><td>09:00</td><td><span style=white-space:pre-wrap>11:25       </span></td><td>2h 25m</td><td>non-stop</td><td>No info</td><td> 3874</td></tr>\n",
       "</tbody>\n",
       "</table>\n"
      ],
      "text/latex": [
       "A tibble: 6 × 11\n",
       "\\begin{tabular}{lllllllllll}\n",
       " Airline & Date\\_of\\_Journey & Source & Destination & Route & Dep\\_Time & Arrival\\_Time & Duration & Total\\_Stops & Additional Info & Price\\\\\n",
       " <chr> & <chr> & <chr> & <chr> & <chr> & <chr> & <chr> & <chr> & <chr> & <chr> & <dbl>\\\\\n",
       "\\hline\n",
       "\t IndiGo      & 24/03/2019 & Banglore & New Delhi & BLR <U+2192> DEL                           & 22:20 & 01:10 22 Mar & 2h 50m & non-stop & No info &  3898\\\\\n",
       "\t Air India   & 1/05/2019  & Kolkata  & Banglore  & CCU <U+2192> IXR <U+2192> BBI <U+2192> BLR & 05:50 & 13:15        & 7h 25m & 2 stops  & No info &  7663\\\\\n",
       "\t Jet Airways & 9/06/2019  & Delhi    & Cochin    & DEL <U+2192> LKO <U+2192> BOM <U+2192> COK & 09:25 & 04:25 10 Jun & 19h    & 2 stops  & No info & 13883\\\\\n",
       "\t IndiGo      & 12/05/2019 & Kolkata  & Banglore  & CCU <U+2192> NAG <U+2192> BLR              & 18:05 & 23:30        & 5h 25m & 1 stop   & No info &  6219\\\\\n",
       "\t IndiGo      & 01/03/2019 & Banglore & New Delhi & BLR <U+2192> NAG <U+2192> DEL              & 16:50 & 21:35        & 4h 45m & 1 stop   & No info & 13303\\\\\n",
       "\t SpiceJet    & 24/06/2019 & Kolkata  & Banglore  & CCU <U+2192> BLR                           & 09:00 & 11:25        & 2h 25m & non-stop & No info &  3874\\\\\n",
       "\\end{tabular}\n"
      ],
      "text/markdown": [
       "\n",
       "A tibble: 6 × 11\n",
       "\n",
       "| Airline &lt;chr&gt; | Date_of_Journey &lt;chr&gt; | Source &lt;chr&gt; | Destination &lt;chr&gt; | Route &lt;chr&gt; | Dep_Time &lt;chr&gt; | Arrival_Time &lt;chr&gt; | Duration &lt;chr&gt; | Total_Stops &lt;chr&gt; | Additional Info &lt;chr&gt; | Price &lt;dbl&gt; |\n",
       "|---|---|---|---|---|---|---|---|---|---|---|\n",
       "| IndiGo      | 24/03/2019 | Banglore | New Delhi | BLR &lt;U+2192&gt; DEL                           | 22:20 | 01:10 22 Mar | 2h 50m | non-stop | No info |  3898 |\n",
       "| Air India   | 1/05/2019  | Kolkata  | Banglore  | CCU &lt;U+2192&gt; IXR &lt;U+2192&gt; BBI &lt;U+2192&gt; BLR | 05:50 | 13:15        | 7h 25m | 2 stops  | No info |  7663 |\n",
       "| Jet Airways | 9/06/2019  | Delhi    | Cochin    | DEL &lt;U+2192&gt; LKO &lt;U+2192&gt; BOM &lt;U+2192&gt; COK | 09:25 | 04:25 10 Jun | 19h    | 2 stops  | No info | 13883 |\n",
       "| IndiGo      | 12/05/2019 | Kolkata  | Banglore  | CCU &lt;U+2192&gt; NAG &lt;U+2192&gt; BLR              | 18:05 | 23:30        | 5h 25m | 1 stop   | No info |  6219 |\n",
       "| IndiGo      | 01/03/2019 | Banglore | New Delhi | BLR &lt;U+2192&gt; NAG &lt;U+2192&gt; DEL              | 16:50 | 21:35        | 4h 45m | 1 stop   | No info | 13303 |\n",
       "| SpiceJet    | 24/06/2019 | Kolkata  | Banglore  | CCU &lt;U+2192&gt; BLR                           | 09:00 | 11:25        | 2h 25m | non-stop | No info |  3874 |\n",
       "\n"
      ],
      "text/plain": [
       "  Airline     Date_of_Journey Source   Destination\n",
       "1 IndiGo      24/03/2019      Banglore New Delhi  \n",
       "2 Air India   1/05/2019       Kolkata  Banglore   \n",
       "3 Jet Airways 9/06/2019       Delhi    Cochin     \n",
       "4 IndiGo      12/05/2019      Kolkata  Banglore   \n",
       "5 IndiGo      01/03/2019      Banglore New Delhi  \n",
       "6 SpiceJet    24/06/2019      Kolkata  Banglore   \n",
       "  Route                                      Dep_Time Arrival_Time Duration\n",
       "1 BLR <U+2192> DEL                           22:20    01:10 22 Mar 2h 50m  \n",
       "2 CCU <U+2192> IXR <U+2192> BBI <U+2192> BLR 05:50    13:15        7h 25m  \n",
       "3 DEL <U+2192> LKO <U+2192> BOM <U+2192> COK 09:25    04:25 10 Jun 19h     \n",
       "4 CCU <U+2192> NAG <U+2192> BLR              18:05    23:30        5h 25m  \n",
       "5 BLR <U+2192> NAG <U+2192> DEL              16:50    21:35        4h 45m  \n",
       "6 CCU <U+2192> BLR                           09:00    11:25        2h 25m  \n",
       "  Total_Stops Additional Info Price\n",
       "1 non-stop    No info          3898\n",
       "2 2 stops     No info          7663\n",
       "3 2 stops     No info         13883\n",
       "4 1 stop      No info          6219\n",
       "5 1 stop      No info         13303\n",
       "6 non-stop    No info          3874"
      ]
     },
     "metadata": {},
     "output_type": "display_data"
    }
   ],
   "source": [
    "head(train_set)"
   ]
  },
  {
   "cell_type": "code",
   "execution_count": 15,
   "id": "db0c2b1a-5f93-4be7-a48e-e48d23f704ec",
   "metadata": {},
   "outputs": [
    {
     "data": {
      "text/html": [
       "<table class=\"dataframe\">\n",
       "<caption>A tibble: 6 × 10</caption>\n",
       "<thead>\n",
       "\t<tr><th scope=col>Airline</th><th scope=col>Date_of_Journey</th><th scope=col>Source</th><th scope=col>Destination</th><th scope=col>Route</th><th scope=col>Dep_Time</th><th scope=col>Arrival_Time</th><th scope=col>Duration</th><th scope=col>Total_Stops</th><th scope=col>Additional Info</th></tr>\n",
       "\t<tr><th scope=col>&lt;chr&gt;</th><th scope=col>&lt;chr&gt;</th><th scope=col>&lt;chr&gt;</th><th scope=col>&lt;chr&gt;</th><th scope=col>&lt;chr&gt;</th><th scope=col>&lt;chr&gt;</th><th scope=col>&lt;chr&gt;</th><th scope=col>&lt;chr&gt;</th><th scope=col>&lt;chr&gt;</th><th scope=col>&lt;chr&gt;</th></tr>\n",
       "</thead>\n",
       "<tbody>\n",
       "\t<tr><td><span style=white-space:pre-wrap>Jet Airways      </span></td><td>6/06/2019 </td><td><span style=white-space:pre-wrap>Delhi   </span></td><td><span style=white-space:pre-wrap>Cochin  </span></td><td>DEL &lt;U+2192&gt; BOM &lt;U+2192&gt; COK</td><td>17:30</td><td>04:25 07 Jun</td><td>10h 55m</td><td><span style=white-space:pre-wrap>1 stop  </span></td><td><span style=white-space:pre-wrap>No info                    </span></td></tr>\n",
       "\t<tr><td><span style=white-space:pre-wrap>IndiGo           </span></td><td>12/05/2019</td><td>Kolkata </td><td>Banglore</td><td>CCU &lt;U+2192&gt; MAA &lt;U+2192&gt; BLR</td><td>06:20</td><td><span style=white-space:pre-wrap>10:20       </span></td><td><span style=white-space:pre-wrap>4h     </span></td><td><span style=white-space:pre-wrap>1 stop  </span></td><td><span style=white-space:pre-wrap>No info                    </span></td></tr>\n",
       "\t<tr><td><span style=white-space:pre-wrap>Jet Airways      </span></td><td>21/05/2019</td><td><span style=white-space:pre-wrap>Delhi   </span></td><td><span style=white-space:pre-wrap>Cochin  </span></td><td>DEL &lt;U+2192&gt; BOM &lt;U+2192&gt; COK</td><td>19:15</td><td>19:00 22 May</td><td>23h 45m</td><td><span style=white-space:pre-wrap>1 stop  </span></td><td>In-flight meal not included</td></tr>\n",
       "\t<tr><td>Multiple carriers</td><td>21/05/2019</td><td><span style=white-space:pre-wrap>Delhi   </span></td><td><span style=white-space:pre-wrap>Cochin  </span></td><td>DEL &lt;U+2192&gt; BOM &lt;U+2192&gt; COK</td><td>08:00</td><td><span style=white-space:pre-wrap>21:00       </span></td><td><span style=white-space:pre-wrap>13h    </span></td><td><span style=white-space:pre-wrap>1 stop  </span></td><td><span style=white-space:pre-wrap>No info                    </span></td></tr>\n",
       "\t<tr><td><span style=white-space:pre-wrap>Air Asia         </span></td><td>24/06/2019</td><td>Banglore</td><td><span style=white-space:pre-wrap>Delhi   </span></td><td><span style=white-space:pre-wrap>BLR &lt;U+2192&gt; DEL             </span></td><td>23:55</td><td>02:45 25 Jun</td><td>2h 50m </td><td>non-stop</td><td><span style=white-space:pre-wrap>No info                    </span></td></tr>\n",
       "\t<tr><td><span style=white-space:pre-wrap>Jet Airways      </span></td><td>12/06/2019</td><td><span style=white-space:pre-wrap>Delhi   </span></td><td><span style=white-space:pre-wrap>Cochin  </span></td><td>DEL &lt;U+2192&gt; BOM &lt;U+2192&gt; COK</td><td>18:15</td><td>12:35 13 Jun</td><td>18h 20m</td><td><span style=white-space:pre-wrap>1 stop  </span></td><td>In-flight meal not included</td></tr>\n",
       "</tbody>\n",
       "</table>\n"
      ],
      "text/latex": [
       "A tibble: 6 × 10\n",
       "\\begin{tabular}{llllllllll}\n",
       " Airline & Date\\_of\\_Journey & Source & Destination & Route & Dep\\_Time & Arrival\\_Time & Duration & Total\\_Stops & Additional Info\\\\\n",
       " <chr> & <chr> & <chr> & <chr> & <chr> & <chr> & <chr> & <chr> & <chr> & <chr>\\\\\n",
       "\\hline\n",
       "\t Jet Airways       & 6/06/2019  & Delhi    & Cochin   & DEL <U+2192> BOM <U+2192> COK & 17:30 & 04:25 07 Jun & 10h 55m & 1 stop   & No info                    \\\\\n",
       "\t IndiGo            & 12/05/2019 & Kolkata  & Banglore & CCU <U+2192> MAA <U+2192> BLR & 06:20 & 10:20        & 4h      & 1 stop   & No info                    \\\\\n",
       "\t Jet Airways       & 21/05/2019 & Delhi    & Cochin   & DEL <U+2192> BOM <U+2192> COK & 19:15 & 19:00 22 May & 23h 45m & 1 stop   & In-flight meal not included\\\\\n",
       "\t Multiple carriers & 21/05/2019 & Delhi    & Cochin   & DEL <U+2192> BOM <U+2192> COK & 08:00 & 21:00        & 13h     & 1 stop   & No info                    \\\\\n",
       "\t Air Asia          & 24/06/2019 & Banglore & Delhi    & BLR <U+2192> DEL              & 23:55 & 02:45 25 Jun & 2h 50m  & non-stop & No info                    \\\\\n",
       "\t Jet Airways       & 12/06/2019 & Delhi    & Cochin   & DEL <U+2192> BOM <U+2192> COK & 18:15 & 12:35 13 Jun & 18h 20m & 1 stop   & In-flight meal not included\\\\\n",
       "\\end{tabular}\n"
      ],
      "text/markdown": [
       "\n",
       "A tibble: 6 × 10\n",
       "\n",
       "| Airline &lt;chr&gt; | Date_of_Journey &lt;chr&gt; | Source &lt;chr&gt; | Destination &lt;chr&gt; | Route &lt;chr&gt; | Dep_Time &lt;chr&gt; | Arrival_Time &lt;chr&gt; | Duration &lt;chr&gt; | Total_Stops &lt;chr&gt; | Additional Info &lt;chr&gt; |\n",
       "|---|---|---|---|---|---|---|---|---|---|\n",
       "| Jet Airways       | 6/06/2019  | Delhi    | Cochin   | DEL &lt;U+2192&gt; BOM &lt;U+2192&gt; COK | 17:30 | 04:25 07 Jun | 10h 55m | 1 stop   | No info                     |\n",
       "| IndiGo            | 12/05/2019 | Kolkata  | Banglore | CCU &lt;U+2192&gt; MAA &lt;U+2192&gt; BLR | 06:20 | 10:20        | 4h      | 1 stop   | No info                     |\n",
       "| Jet Airways       | 21/05/2019 | Delhi    | Cochin   | DEL &lt;U+2192&gt; BOM &lt;U+2192&gt; COK | 19:15 | 19:00 22 May | 23h 45m | 1 stop   | In-flight meal not included |\n",
       "| Multiple carriers | 21/05/2019 | Delhi    | Cochin   | DEL &lt;U+2192&gt; BOM &lt;U+2192&gt; COK | 08:00 | 21:00        | 13h     | 1 stop   | No info                     |\n",
       "| Air Asia          | 24/06/2019 | Banglore | Delhi    | BLR &lt;U+2192&gt; DEL              | 23:55 | 02:45 25 Jun | 2h 50m  | non-stop | No info                     |\n",
       "| Jet Airways       | 12/06/2019 | Delhi    | Cochin   | DEL &lt;U+2192&gt; BOM &lt;U+2192&gt; COK | 18:15 | 12:35 13 Jun | 18h 20m | 1 stop   | In-flight meal not included |\n",
       "\n"
      ],
      "text/plain": [
       "  Airline           Date_of_Journey Source   Destination\n",
       "1 Jet Airways       6/06/2019       Delhi    Cochin     \n",
       "2 IndiGo            12/05/2019      Kolkata  Banglore   \n",
       "3 Jet Airways       21/05/2019      Delhi    Cochin     \n",
       "4 Multiple carriers 21/05/2019      Delhi    Cochin     \n",
       "5 Air Asia          24/06/2019      Banglore Delhi      \n",
       "6 Jet Airways       12/06/2019      Delhi    Cochin     \n",
       "  Route                         Dep_Time Arrival_Time Duration Total_Stops\n",
       "1 DEL <U+2192> BOM <U+2192> COK 17:30    04:25 07 Jun 10h 55m  1 stop     \n",
       "2 CCU <U+2192> MAA <U+2192> BLR 06:20    10:20        4h       1 stop     \n",
       "3 DEL <U+2192> BOM <U+2192> COK 19:15    19:00 22 May 23h 45m  1 stop     \n",
       "4 DEL <U+2192> BOM <U+2192> COK 08:00    21:00        13h      1 stop     \n",
       "5 BLR <U+2192> DEL              23:55    02:45 25 Jun 2h 50m   non-stop   \n",
       "6 DEL <U+2192> BOM <U+2192> COK 18:15    12:35 13 Jun 18h 20m  1 stop     \n",
       "  Additional Info            \n",
       "1 No info                    \n",
       "2 No info                    \n",
       "3 In-flight meal not included\n",
       "4 No info                    \n",
       "5 No info                    \n",
       "6 In-flight meal not included"
      ]
     },
     "metadata": {},
     "output_type": "display_data"
    }
   ],
   "source": [
    "head(test_set)"
   ]
  },
  {
   "cell_type": "code",
   "execution_count": 16,
   "id": "401a59f3",
   "metadata": {},
   "outputs": [
    {
     "data": {
      "text/html": [
       "<style>\n",
       ".list-inline {list-style: none; margin:0; padding: 0}\n",
       ".list-inline>li {display: inline-block}\n",
       ".list-inline>li:not(:last-child)::after {content: \"\\00b7\"; padding: 0 .5ex}\n",
       "</style>\n",
       "<ol class=list-inline><li>'Airline'</li><li>'Date_of_Journey'</li><li>'Source'</li><li>'Destination'</li><li>'Route'</li><li>'Dep_Time'</li><li>'Arrival_Time'</li><li>'Duration'</li><li>'Total_Stops'</li><li>'Additional Info'</li><li>'Price'</li></ol>\n"
      ],
      "text/latex": [
       "\\begin{enumerate*}\n",
       "\\item 'Airline'\n",
       "\\item 'Date\\_of\\_Journey'\n",
       "\\item 'Source'\n",
       "\\item 'Destination'\n",
       "\\item 'Route'\n",
       "\\item 'Dep\\_Time'\n",
       "\\item 'Arrival\\_Time'\n",
       "\\item 'Duration'\n",
       "\\item 'Total\\_Stops'\n",
       "\\item 'Additional Info'\n",
       "\\item 'Price'\n",
       "\\end{enumerate*}\n"
      ],
      "text/markdown": [
       "1. 'Airline'\n",
       "2. 'Date_of_Journey'\n",
       "3. 'Source'\n",
       "4. 'Destination'\n",
       "5. 'Route'\n",
       "6. 'Dep_Time'\n",
       "7. 'Arrival_Time'\n",
       "8. 'Duration'\n",
       "9. 'Total_Stops'\n",
       "10. 'Additional Info'\n",
       "11. 'Price'\n",
       "\n",
       "\n"
      ],
      "text/plain": [
       " [1] \"Airline\"         \"Date_of_Journey\" \"Source\"          \"Destination\"    \n",
       " [5] \"Route\"           \"Dep_Time\"        \"Arrival_Time\"    \"Duration\"       \n",
       " [9] \"Total_Stops\"     \"Additional Info\" \"Price\"          "
      ]
     },
     "metadata": {},
     "output_type": "display_data"
    }
   ],
   "source": [
    "names(train_set)"
   ]
  },
  {
   "cell_type": "code",
   "execution_count": 17,
   "id": "7870dcb3",
   "metadata": {},
   "outputs": [
    {
     "name": "stdout",
     "output_type": "stream",
     "text": [
      "tibble [10,683 x 11] (S3: tbl_df/tbl/data.frame)\n",
      " $ Airline        : chr [1:10683] \"IndiGo\" \"Air India\" \"Jet Airways\" \"IndiGo\" ...\n",
      " $ Date_of_Journey: chr [1:10683] \"24/03/2019\" \"1/05/2019\" \"9/06/2019\" \"12/05/2019\" ...\n",
      " $ Source         : chr [1:10683] \"Banglore\" \"Kolkata\" \"Delhi\" \"Kolkata\" ...\n",
      " $ Destination    : chr [1:10683] \"New Delhi\" \"Banglore\" \"Cochin\" \"Banglore\" ...\n",
      " $ Route          : chr [1:10683] \"BLR <U+2192> DEL\" \"CCU <U+2192> IXR <U+2192> BBI <U+2192> BLR\" \"DEL <U+2192> LKO <U+2192> BOM <U+2192> COK\" \"CCU <U+2192> NAG <U+2192> BLR\" ...\n",
      " $ Dep_Time       : chr [1:10683] \"22:20\" \"05:50\" \"09:25\" \"18:05\" ...\n",
      " $ Arrival_Time   : chr [1:10683] \"01:10 22 Mar\" \"13:15\" \"04:25 10 Jun\" \"23:30\" ...\n",
      " $ Duration       : chr [1:10683] \"2h 50m\" \"7h 25m\" \"19h\" \"5h 25m\" ...\n",
      " $ Total_Stops    : chr [1:10683] \"non-stop\" \"2 stops\" \"2 stops\" \"1 stop\" ...\n",
      " $ Additional Info: chr [1:10683] \"No info\" \"No info\" \"No info\" \"No info\" ...\n",
      " $ Price          : num [1:10683] 3898 7663 13883 6219 13303 ...\n"
     ]
    }
   ],
   "source": [
    "str(train_set)"
   ]
  },
  {
   "cell_type": "code",
   "execution_count": 18,
   "id": "4df21491-06e2-495c-a070-83d7b816eb9c",
   "metadata": {},
   "outputs": [
    {
     "data": {
      "text/plain": [
       "   Airline          Date_of_Journey       Source          Destination       \n",
       " Length:10683       Length:10683       Length:10683       Length:10683      \n",
       " Class :character   Class :character   Class :character   Class :character  \n",
       " Mode  :character   Mode  :character   Mode  :character   Mode  :character  \n",
       "                                                                            \n",
       "                                                                            \n",
       "                                                                            \n",
       "    Route             Dep_Time         Arrival_Time         Duration        \n",
       " Length:10683       Length:10683       Length:10683       Length:10683      \n",
       " Class :character   Class :character   Class :character   Class :character  \n",
       " Mode  :character   Mode  :character   Mode  :character   Mode  :character  \n",
       "                                                                            \n",
       "                                                                            \n",
       "                                                                            \n",
       " Total_Stops        Additional Info        Price      \n",
       " Length:10683       Length:10683       Min.   : 1760  \n",
       " Class :character   Class :character   1st Qu.: 5278  \n",
       " Mode  :character   Mode  :character   Median : 8373  \n",
       "                                       Mean   : 9088  \n",
       "                                       3rd Qu.:12374  \n",
       "                                       Max.   :79513  "
      ]
     },
     "metadata": {},
     "output_type": "display_data"
    }
   ],
   "source": [
    "summary(train_set)"
   ]
  },
  {
   "cell_type": "code",
   "execution_count": 8,
   "id": "657cfa30-fdaf-4a0c-baf6-055fa1f1f69e",
   "metadata": {},
   "outputs": [
    {
     "data": {
      "text/plain": [
       "  Airline        Date_of_Journey   Source        Destination    \n",
       " Mode :logical   Mode :logical   Mode :logical   Mode :logical  \n",
       " FALSE:10683     FALSE:10683     FALSE:10683     FALSE:10683    \n",
       "                                                                \n",
       "   Route          Dep_Time       Arrival_Time     Duration      \n",
       " Mode :logical   Mode :logical   Mode :logical   Mode :logical  \n",
       " FALSE:10682     FALSE:10683     FALSE:10683     FALSE:10683    \n",
       " TRUE :1                                                        \n",
       " Total_Stops     Additional Info   Price        \n",
       " Mode :logical   Mode :logical   Mode :logical  \n",
       " FALSE:10682     FALSE:10683     FALSE:10683    \n",
       " TRUE :1                                        "
      ]
     },
     "metadata": {},
     "output_type": "display_data"
    }
   ],
   "source": [
    "summary(is.na(train))"
   ]
  },
  {
   "cell_type": "code",
   "execution_count": 41,
   "id": "25aab13a-922b-4c62-a138-9e10fcafe5be",
   "metadata": {},
   "outputs": [],
   "source": [
    "train = na.omit(train)"
   ]
  },
  {
   "cell_type": "code",
   "execution_count": 42,
   "id": "15c959c4-0086-44fc-8dae-65f9a0c0acf4",
   "metadata": {},
   "outputs": [
    {
     "data": {
      "text/plain": [
       "  Airline        Date_of_Journey   Source        Destination    \n",
       " Mode :logical   Mode :logical   Mode :logical   Mode :logical  \n",
       " FALSE:10682     FALSE:10682     FALSE:10682     FALSE:10682    \n",
       "   Route          Dep_Time       Arrival_Time     Duration      \n",
       " Mode :logical   Mode :logical   Mode :logical   Mode :logical  \n",
       " FALSE:10682     FALSE:10682     FALSE:10682     FALSE:10682    \n",
       " Total_Stops     Additional Info   Price        \n",
       " Mode :logical   Mode :logical   Mode :logical  \n",
       " FALSE:10682     FALSE:10682     FALSE:10682    "
      ]
     },
     "metadata": {},
     "output_type": "display_data"
    }
   ],
   "source": [
    "summary(is.na(train))"
   ]
  },
  {
   "cell_type": "code",
   "execution_count": null,
   "id": "b0ab1538-0418-4c47-8f43-3e26aa168068",
   "metadata": {},
   "outputs": [],
   "source": []
  }
 ],
 "metadata": {
  "kernelspec": {
   "display_name": "R",
   "language": "R",
   "name": "ir"
  },
  "language_info": {
   "codemirror_mode": "r",
   "file_extension": ".r",
   "mimetype": "text/x-r-source",
   "name": "R",
   "pygments_lexer": "r",
   "version": "4.1.2"
  }
 },
 "nbformat": 4,
 "nbformat_minor": 5
}
