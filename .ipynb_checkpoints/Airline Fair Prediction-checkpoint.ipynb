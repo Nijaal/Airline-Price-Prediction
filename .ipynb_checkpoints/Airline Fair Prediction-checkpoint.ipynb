{
 "cells": [
  {
   "cell_type": "code",
   "execution_count": null,
   "id": "baec1d2a-d044-49e2-81d8-31472ebc948b",
   "metadata": {},
   "outputs": [],
   "source": [
    "install.packages(\"readxl\")\n",
    "install.packages(\"superml\")\n",
    "install.packages(\"ggplot2\")\n",
    "install.packages(\"dplyr\")"
   ]
  },
  {
   "cell_type": "code",
   "execution_count": null,
   "id": "94b1d874-1f98-4072-a06d-6471cd69858a",
   "metadata": {},
   "outputs": [],
   "source": [
    "library(\"ggplot2\") \n",
    "library(\"readxl\")\n",
    "library(\"superml\")\n",
    "library(\"dplyr\")\n",
    "setwd(\"C:\\\\Users\\\\Acer\\\\OneDrive\\\\Desktop\\\\R Project\\\\Airline Fair Prediction\")"
   ]
  },
  {
   "cell_type": "code",
   "execution_count": null,
   "id": "c860acc4-63c6-471c-992b-3ca22d36ef2e",
   "metadata": {},
   "outputs": [],
   "source": [
    "df = read_excel(\"train.xlsx\")\n",
    "View(df)"
   ]
  },
  {
   "cell_type": "code",
   "execution_count": null,
   "id": "84ec3bad-2f44-4e44-adb9-4e127f966dc8",
   "metadata": {},
   "outputs": [],
   "source": [
    "head(df)"
   ]
  },
  {
   "cell_type": "code",
   "execution_count": null,
   "id": "db0c2b1a-5f93-4be7-a48e-e48d23f704ec",
   "metadata": {},
   "outputs": [],
   "source": [
    "names(df)"
   ]
  },
  {
   "cell_type": "code",
   "execution_count": null,
   "id": "401a59f3",
   "metadata": {},
   "outputs": [],
   "source": [
    "str(df)"
   ]
  },
  {
   "cell_type": "code",
   "execution_count": null,
   "id": "4df21491-06e2-495c-a070-83d7b816eb9c",
   "metadata": {},
   "outputs": [],
   "source": [
    "summary(df)"
   ]
  },
  {
   "cell_type": "code",
   "execution_count": null,
   "id": "657cfa30-fdaf-4a0c-baf6-055fa1f1f69e",
   "metadata": {},
   "outputs": [],
   "source": [
    "summary(is.na(df))"
   ]
  },
  {
   "cell_type": "code",
   "execution_count": null,
   "id": "2c97cf85-1307-41f8-b3f5-8a8044167f34",
   "metadata": {
    "tags": []
   },
   "outputs": [],
   "source": [
    "miss = which(is.na(df))\n",
    "df[miss,]"
   ]
  },
  {
   "cell_type": "code",
   "execution_count": null,
   "id": "ddb2af4f-0593-4b07-ab36-c0d9e9160e78",
   "metadata": {},
   "outputs": [],
   "source": [
    "#Handling missing values\n",
    "df = na.omit(df)\n",
    "summary(is.na(df))"
   ]
  },
  {
   "cell_type": "code",
   "execution_count": null,
   "id": "15c959c4-0086-44fc-8dae-65f9a0c0acf4",
   "metadata": {},
   "outputs": [],
   "source": [
    "#Suitable data type for the column\n",
    "total_stops <- function(dx){\n",
    "  unique(dx$Total_Stops)\n",
    "  dx$Total_Stops <- replace(dx$Total_Stops,dx$Total_Stops == \"non-stop\",0)\n",
    "  dx$Total_Stops <- replace(dx$Total_Stops,dx$Total_Stops == \"1 stop\",1)\n",
    "  dx$Total_Stops <- replace(dx$Total_Stops,dx$Total_Stops == \"2 stops\",2)\n",
    "  dx$Total_Stops <- replace(dx$Total_Stops,dx$Total_Stops == \"3 stops\",3)\n",
    "  dx$Total_Stops <- replace(dx$Total_Stops,dx$Total_Stops == \"4 stops\",4)\n",
    "  return(dx$Total_Stops)\n",
    "}\n",
    "df$Total_Stops <- total_stops(df)"
   ]
  },
  {
   "cell_type": "code",
   "execution_count": null,
   "id": "b0ab1538-0418-4c47-8f43-3e26aa168068",
   "metadata": {},
   "outputs": [],
   "source": [
    "#Suitable metrics for the column\n",
    "durat <- function(dx){\n",
    "  duration <- c()\n",
    "  for (each in dx$Duration) {\n",
    "    dur <- 0\n",
    "    if(unlist(gregexpr(\"h\",each)) != -1){\n",
    "      dur <- dur + as.integer(substr(each,1,unlist(gregexpr(\"h\",each))-1))*60\n",
    "    }\n",
    "    if(unlist(gregexpr(\"m\",each)) != -1){\n",
    "      if(unlist(gregexpr(\"h\",each)) != -1){\n",
    "        dur <- dur + as.integer(substr(each,unlist(gregexpr(\"h\",each))+1,unlist(gregexpr(\"m\",each))-1))\n",
    "      }\n",
    "      else{\n",
    "        dur <- dur + as.integer(substr(each,1,unlist(gregexpr(\"h\",each))-1))\n",
    "      }\n",
    "    }\n",
    "    duration <- c(duration,dur)\n",
    "  }\n",
    "  return(duration)\n",
    "}\n",
    "df[\"Duration (in mins)\"] <- durat(df)"
   ]
  },
  {
   "cell_type": "code",
   "execution_count": null,
   "id": "fcf83924-7dc8-4fb9-8228-89f6c42869ff",
   "metadata": {},
   "outputs": [],
   "source": [
    "date <- function(dx){\n",
    "  dates <- c()\n",
    "  for (each in dx$Date_of_Journey) {\n",
    "    date <- as.Date(each,\"%d/%m/%Y\")\n",
    "    dates <- c(dates, date)\n",
    "  }\n",
    "  dx$`Date of Journey` <- dates\n",
    "  dx$`Date of Journey` <- as.Date(dx$`Date of Journey`,origin = \"1970-01-01\")\n",
    "  return(dx$`Date of Journey`)\n",
    "}\n",
    "df$`Date of Journey` <- date(df)"
   ]
  },
  {
   "cell_type": "code",
   "execution_count": null,
   "id": "94fef520-03c4-44ca-a2c8-4017f72a7aad",
   "metadata": {},
   "outputs": [],
   "source": [
    "airline <- function(dx){\n",
    "  unique(dx$Airline)\n",
    "  lb = LabelEncoder$new()\n",
    "  lb$fit(dx$Airline)\n",
    "  dx$Airline = lb$fit_transform(dx$Airline)\n",
    "  return(dx$Airline)\n",
    "}\n",
    "df$Airline <- airline(df)"
   ]
  },
  {
   "cell_type": "code",
   "execution_count": null,
   "id": "e3e517dc-2a1b-4fb1-baaf-7e710f85f7a9",
   "metadata": {},
   "outputs": [],
   "source": [
    "#Dropping columns which are of no use\n",
    "data <- subset(df, select = -c(Route,Dep_Time,Arrival_Time,`Additional Info`,Duration,Source,Destination,Date_of_Journey))\n",
    "View(data)"
   ]
  },
  {
   "cell_type": "code",
   "execution_count": null,
   "id": "1a2a1d9a-b791-4d2a-bdb7-1c48b4f33ebf",
   "metadata": {},
   "outputs": [],
   "source": [
    "#Histogram\n",
    "ggplot(data, aes(x=Price)) + geom_histogram()"
   ]
  },
  {
   "cell_type": "code",
   "execution_count": null,
   "id": "5b398d51-050f-412e-b641-7dce6c385531",
   "metadata": {},
   "outputs": [],
   "source": [
    "#Airline, Price\n",
    "plot(data$Airline, data$Price)                                                                                                    \n",
    "ggplot(data=df, aes(x=Airline, y=Price))+geom_boxplot()"
   ]
  },
  {
   "cell_type": "code",
   "execution_count": null,
   "id": "a0f80d24-ea0d-4523-999f-a49af40556ef",
   "metadata": {},
   "outputs": [],
   "source": [
    "#Duration, Price\n",
    "ggplot(data=data, aes(x=`Duration (in mins)`, y=Price))+geom_line()"
   ]
  },
  {
   "cell_type": "code",
   "execution_count": null,
   "id": "a06d1d7a-18c6-4568-af70-3e8ccb58dd88",
   "metadata": {},
   "outputs": [],
   "source": [
    "#Total Stop, Price\n",
    "ggplot(data=data, aes(x=Total_Stops, y=Price))+geom_jitter()"
   ]
  },
  {
   "cell_type": "code",
   "execution_count": null,
   "id": "a041533f-4c4f-43bb-87fd-b17308272595",
   "metadata": {},
   "outputs": [],
   "source": [
    "model <- lm( Price ~ Airline + Total_Stops + `Duration (in mins)` + `Date of Journey`,data = data)\n",
    "print(model)"
   ]
  },
  {
   "cell_type": "code",
   "execution_count": null,
   "id": "000b6428-0872-4043-a6d3-f6520d9b29be",
   "metadata": {},
   "outputs": [],
   "source": [
    "test = read_excel(\"train.xlsx\")\n",
    "test$Total_Stops <- total_stops(test)\n",
    "test$`Duration (in mins)` <- durat(test)\n",
    "test$`Date of Journey` <- date(test)\n",
    "test$Airline <- airline(test)\n",
    "result <- predict(model,test)"
   ]
  },
  {
   "cell_type": "code",
   "execution_count": null,
   "id": "f44a143a-38bb-441b-b0bf-a2d8d2199569",
   "metadata": {},
   "outputs": [],
   "source": [
    "summary(model)$coefficient"
   ]
  },
  {
   "cell_type": "code",
   "execution_count": null,
   "id": "dd7c558d-d651-40a8-826c-5a16f1265be2",
   "metadata": {},
   "outputs": [],
   "source": [
    "result_data <- data.frame(actual= head(test$Price), predicted=head(predict(model)))\n",
    "result_data"
   ]
  }
 ],
 "metadata": {
  "kernelspec": {
   "display_name": "R",
   "language": "R",
   "name": "ir"
  },
  "language_info": {
   "codemirror_mode": "r",
   "file_extension": ".r",
   "mimetype": "text/x-r-source",
   "name": "R",
   "pygments_lexer": "r",
   "version": "4.1.2"
  }
 },
 "nbformat": 4,
 "nbformat_minor": 5
}
