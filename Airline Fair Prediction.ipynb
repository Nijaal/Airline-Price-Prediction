{
 "cells": [
  {
   "cell_type": "code",
   "execution_count": 1,
   "id": "baec1d2a-d044-49e2-81d8-31472ebc948b",
   "metadata": {},
   "outputs": [
    {
     "name": "stderr",
     "output_type": "stream",
     "text": [
      "Installing package into 'C:/Users/Acer/OneDrive/Documents/R/win-library/4.1'\n",
      "(as 'lib' is unspecified)\n",
      "\n"
     ]
    },
    {
     "name": "stdout",
     "output_type": "stream",
     "text": [
      "package 'readxl' successfully unpacked and MD5 sums checked\n"
     ]
    },
    {
     "name": "stderr",
     "output_type": "stream",
     "text": [
      "Warning message:\n",
      "\"cannot remove prior installation of package 'readxl'\"\n",
      "Warning message in file.copy(savedcopy, lib, recursive = TRUE):\n",
      "\"problem copying C:\\Users\\Acer\\OneDrive\\Documents\\R\\win-library\\4.1\\00LOCK\\readxl\\libs\\x64\\readxl.dll to C:\\Users\\Acer\\OneDrive\\Documents\\R\\win-library\\4.1\\readxl\\libs\\x64\\readxl.dll: Permission denied\"\n",
      "Warning message:\n",
      "\"restored 'readxl'\"\n"
     ]
    },
    {
     "name": "stdout",
     "output_type": "stream",
     "text": [
      "\n",
      "The downloaded binary packages are in\n",
      "\tC:\\Users\\Acer\\AppData\\Local\\Temp\\RtmpoRWuhJ\\downloaded_packages\n"
     ]
    },
    {
     "name": "stderr",
     "output_type": "stream",
     "text": [
      "Installing package into 'C:/Users/Acer/OneDrive/Documents/R/win-library/4.1'\n",
      "(as 'lib' is unspecified)\n",
      "\n"
     ]
    },
    {
     "name": "stdout",
     "output_type": "stream",
     "text": [
      "package 'superml' successfully unpacked and MD5 sums checked\n"
     ]
    },
    {
     "name": "stderr",
     "output_type": "stream",
     "text": [
      "Warning message:\n",
      "\"cannot remove prior installation of package 'superml'\"\n",
      "Warning message in file.copy(savedcopy, lib, recursive = TRUE):\n",
      "\"problem copying C:\\Users\\Acer\\OneDrive\\Documents\\R\\win-library\\4.1\\00LOCK\\superml\\libs\\x64\\superml.dll to C:\\Users\\Acer\\OneDrive\\Documents\\R\\win-library\\4.1\\superml\\libs\\x64\\superml.dll: Permission denied\"\n",
      "Warning message:\n",
      "\"restored 'superml'\"\n"
     ]
    },
    {
     "name": "stdout",
     "output_type": "stream",
     "text": [
      "\n",
      "The downloaded binary packages are in\n",
      "\tC:\\Users\\Acer\\AppData\\Local\\Temp\\RtmpoRWuhJ\\downloaded_packages\n"
     ]
    }
   ],
   "source": [
    "install.packages(\"readxl\")\n",
    "install.packages(\"superml\")"
   ]
  },
  {
   "cell_type": "code",
   "execution_count": 2,
   "id": "94b1d874-1f98-4072-a06d-6471cd69858a",
   "metadata": {},
   "outputs": [
    {
     "name": "stderr",
     "output_type": "stream",
     "text": [
      "Loading required package: R6\n",
      "\n"
     ]
    }
   ],
   "source": [
    "library(\"readxl\")\n",
    "library(\"superml\")\n",
    "setwd(\"C:\\\\Users\\\\Acer\\\\OneDrive\\\\Desktop\\\\R Project\\\\Airline Fair Prediction\")"
   ]
  },
  {
   "cell_type": "code",
   "execution_count": 3,
   "id": "c860acc4-63c6-471c-992b-3ca22d36ef2e",
   "metadata": {},
   "outputs": [],
   "source": [
    "train_set = read_excel(\"train.xlsx\")\n",
    "test_set = read_excel(\"test.xlsx\")"
   ]
  },
  {
   "cell_type": "code",
   "execution_count": 4,
   "id": "84ec3bad-2f44-4e44-adb9-4e127f966dc8",
   "metadata": {},
   "outputs": [
    {
     "data": {
      "text/html": [
       "<table class=\"dataframe\">\n",
       "<caption>A tibble: 6 × 11</caption>\n",
       "<thead>\n",
       "\t<tr><th scope=col>Airline</th><th scope=col>Date_of_Journey</th><th scope=col>Source</th><th scope=col>Destination</th><th scope=col>Route</th><th scope=col>Dep_Time</th><th scope=col>Arrival_Time</th><th scope=col>Duration</th><th scope=col>Total_Stops</th><th scope=col>Additional Info</th><th scope=col>Price</th></tr>\n",
       "\t<tr><th scope=col>&lt;chr&gt;</th><th scope=col>&lt;chr&gt;</th><th scope=col>&lt;chr&gt;</th><th scope=col>&lt;chr&gt;</th><th scope=col>&lt;chr&gt;</th><th scope=col>&lt;chr&gt;</th><th scope=col>&lt;chr&gt;</th><th scope=col>&lt;chr&gt;</th><th scope=col>&lt;chr&gt;</th><th scope=col>&lt;chr&gt;</th><th scope=col>&lt;dbl&gt;</th></tr>\n",
       "</thead>\n",
       "<tbody>\n",
       "\t<tr><td><span style=white-space:pre-wrap>IndiGo     </span></td><td>24/03/2019</td><td>Banglore</td><td>New Delhi</td><td><span style=white-space:pre-wrap>BLR &lt;U+2192&gt; DEL                          </span></td><td>22:20</td><td>01:10 22 Mar</td><td>2h 50m</td><td>non-stop</td><td>No info</td><td> 3898</td></tr>\n",
       "\t<tr><td><span style=white-space:pre-wrap>Air India  </span></td><td>1/05/2019 </td><td>Kolkata </td><td>Banglore </td><td>CCU &lt;U+2192&gt; IXR &lt;U+2192&gt; BBI &lt;U+2192&gt; BLR</td><td>05:50</td><td><span style=white-space:pre-wrap>13:15       </span></td><td>7h 25m</td><td>2 stops </td><td>No info</td><td> 7663</td></tr>\n",
       "\t<tr><td>Jet Airways</td><td>9/06/2019 </td><td><span style=white-space:pre-wrap>Delhi   </span></td><td><span style=white-space:pre-wrap>Cochin   </span></td><td>DEL &lt;U+2192&gt; LKO &lt;U+2192&gt; BOM &lt;U+2192&gt; COK</td><td>09:25</td><td>04:25 10 Jun</td><td><span style=white-space:pre-wrap>19h   </span></td><td>2 stops </td><td>No info</td><td>13883</td></tr>\n",
       "\t<tr><td><span style=white-space:pre-wrap>IndiGo     </span></td><td>12/05/2019</td><td>Kolkata </td><td>Banglore </td><td><span style=white-space:pre-wrap>CCU &lt;U+2192&gt; NAG &lt;U+2192&gt; BLR             </span></td><td>18:05</td><td><span style=white-space:pre-wrap>23:30       </span></td><td>5h 25m</td><td><span style=white-space:pre-wrap>1 stop  </span></td><td>No info</td><td> 6219</td></tr>\n",
       "\t<tr><td><span style=white-space:pre-wrap>IndiGo     </span></td><td>01/03/2019</td><td>Banglore</td><td>New Delhi</td><td><span style=white-space:pre-wrap>BLR &lt;U+2192&gt; NAG &lt;U+2192&gt; DEL             </span></td><td>16:50</td><td><span style=white-space:pre-wrap>21:35       </span></td><td>4h 45m</td><td><span style=white-space:pre-wrap>1 stop  </span></td><td>No info</td><td>13303</td></tr>\n",
       "\t<tr><td><span style=white-space:pre-wrap>SpiceJet   </span></td><td>24/06/2019</td><td>Kolkata </td><td>Banglore </td><td><span style=white-space:pre-wrap>CCU &lt;U+2192&gt; BLR                          </span></td><td>09:00</td><td><span style=white-space:pre-wrap>11:25       </span></td><td>2h 25m</td><td>non-stop</td><td>No info</td><td> 3874</td></tr>\n",
       "</tbody>\n",
       "</table>\n"
      ],
      "text/latex": [
       "A tibble: 6 × 11\n",
       "\\begin{tabular}{lllllllllll}\n",
       " Airline & Date\\_of\\_Journey & Source & Destination & Route & Dep\\_Time & Arrival\\_Time & Duration & Total\\_Stops & Additional Info & Price\\\\\n",
       " <chr> & <chr> & <chr> & <chr> & <chr> & <chr> & <chr> & <chr> & <chr> & <chr> & <dbl>\\\\\n",
       "\\hline\n",
       "\t IndiGo      & 24/03/2019 & Banglore & New Delhi & BLR <U+2192> DEL                           & 22:20 & 01:10 22 Mar & 2h 50m & non-stop & No info &  3898\\\\\n",
       "\t Air India   & 1/05/2019  & Kolkata  & Banglore  & CCU <U+2192> IXR <U+2192> BBI <U+2192> BLR & 05:50 & 13:15        & 7h 25m & 2 stops  & No info &  7663\\\\\n",
       "\t Jet Airways & 9/06/2019  & Delhi    & Cochin    & DEL <U+2192> LKO <U+2192> BOM <U+2192> COK & 09:25 & 04:25 10 Jun & 19h    & 2 stops  & No info & 13883\\\\\n",
       "\t IndiGo      & 12/05/2019 & Kolkata  & Banglore  & CCU <U+2192> NAG <U+2192> BLR              & 18:05 & 23:30        & 5h 25m & 1 stop   & No info &  6219\\\\\n",
       "\t IndiGo      & 01/03/2019 & Banglore & New Delhi & BLR <U+2192> NAG <U+2192> DEL              & 16:50 & 21:35        & 4h 45m & 1 stop   & No info & 13303\\\\\n",
       "\t SpiceJet    & 24/06/2019 & Kolkata  & Banglore  & CCU <U+2192> BLR                           & 09:00 & 11:25        & 2h 25m & non-stop & No info &  3874\\\\\n",
       "\\end{tabular}\n"
      ],
      "text/markdown": [
       "\n",
       "A tibble: 6 × 11\n",
       "\n",
       "| Airline &lt;chr&gt; | Date_of_Journey &lt;chr&gt; | Source &lt;chr&gt; | Destination &lt;chr&gt; | Route &lt;chr&gt; | Dep_Time &lt;chr&gt; | Arrival_Time &lt;chr&gt; | Duration &lt;chr&gt; | Total_Stops &lt;chr&gt; | Additional Info &lt;chr&gt; | Price &lt;dbl&gt; |\n",
       "|---|---|---|---|---|---|---|---|---|---|---|\n",
       "| IndiGo      | 24/03/2019 | Banglore | New Delhi | BLR &lt;U+2192&gt; DEL                           | 22:20 | 01:10 22 Mar | 2h 50m | non-stop | No info |  3898 |\n",
       "| Air India   | 1/05/2019  | Kolkata  | Banglore  | CCU &lt;U+2192&gt; IXR &lt;U+2192&gt; BBI &lt;U+2192&gt; BLR | 05:50 | 13:15        | 7h 25m | 2 stops  | No info |  7663 |\n",
       "| Jet Airways | 9/06/2019  | Delhi    | Cochin    | DEL &lt;U+2192&gt; LKO &lt;U+2192&gt; BOM &lt;U+2192&gt; COK | 09:25 | 04:25 10 Jun | 19h    | 2 stops  | No info | 13883 |\n",
       "| IndiGo      | 12/05/2019 | Kolkata  | Banglore  | CCU &lt;U+2192&gt; NAG &lt;U+2192&gt; BLR              | 18:05 | 23:30        | 5h 25m | 1 stop   | No info |  6219 |\n",
       "| IndiGo      | 01/03/2019 | Banglore | New Delhi | BLR &lt;U+2192&gt; NAG &lt;U+2192&gt; DEL              | 16:50 | 21:35        | 4h 45m | 1 stop   | No info | 13303 |\n",
       "| SpiceJet    | 24/06/2019 | Kolkata  | Banglore  | CCU &lt;U+2192&gt; BLR                           | 09:00 | 11:25        | 2h 25m | non-stop | No info |  3874 |\n",
       "\n"
      ],
      "text/plain": [
       "  Airline     Date_of_Journey Source   Destination\n",
       "1 IndiGo      24/03/2019      Banglore New Delhi  \n",
       "2 Air India   1/05/2019       Kolkata  Banglore   \n",
       "3 Jet Airways 9/06/2019       Delhi    Cochin     \n",
       "4 IndiGo      12/05/2019      Kolkata  Banglore   \n",
       "5 IndiGo      01/03/2019      Banglore New Delhi  \n",
       "6 SpiceJet    24/06/2019      Kolkata  Banglore   \n",
       "  Route                                      Dep_Time Arrival_Time Duration\n",
       "1 BLR <U+2192> DEL                           22:20    01:10 22 Mar 2h 50m  \n",
       "2 CCU <U+2192> IXR <U+2192> BBI <U+2192> BLR 05:50    13:15        7h 25m  \n",
       "3 DEL <U+2192> LKO <U+2192> BOM <U+2192> COK 09:25    04:25 10 Jun 19h     \n",
       "4 CCU <U+2192> NAG <U+2192> BLR              18:05    23:30        5h 25m  \n",
       "5 BLR <U+2192> NAG <U+2192> DEL              16:50    21:35        4h 45m  \n",
       "6 CCU <U+2192> BLR                           09:00    11:25        2h 25m  \n",
       "  Total_Stops Additional Info Price\n",
       "1 non-stop    No info          3898\n",
       "2 2 stops     No info          7663\n",
       "3 2 stops     No info         13883\n",
       "4 1 stop      No info          6219\n",
       "5 1 stop      No info         13303\n",
       "6 non-stop    No info          3874"
      ]
     },
     "metadata": {},
     "output_type": "display_data"
    }
   ],
   "source": [
    "head(train_set)"
   ]
  },
  {
   "cell_type": "code",
   "execution_count": 5,
   "id": "db0c2b1a-5f93-4be7-a48e-e48d23f704ec",
   "metadata": {},
   "outputs": [
    {
     "data": {
      "text/html": [
       "<style>\n",
       ".list-inline {list-style: none; margin:0; padding: 0}\n",
       ".list-inline>li {display: inline-block}\n",
       ".list-inline>li:not(:last-child)::after {content: \"\\00b7\"; padding: 0 .5ex}\n",
       "</style>\n",
       "<ol class=list-inline><li>'Airline'</li><li>'Date_of_Journey'</li><li>'Source'</li><li>'Destination'</li><li>'Route'</li><li>'Dep_Time'</li><li>'Arrival_Time'</li><li>'Duration'</li><li>'Total_Stops'</li><li>'Additional Info'</li><li>'Price'</li></ol>\n"
      ],
      "text/latex": [
       "\\begin{enumerate*}\n",
       "\\item 'Airline'\n",
       "\\item 'Date\\_of\\_Journey'\n",
       "\\item 'Source'\n",
       "\\item 'Destination'\n",
       "\\item 'Route'\n",
       "\\item 'Dep\\_Time'\n",
       "\\item 'Arrival\\_Time'\n",
       "\\item 'Duration'\n",
       "\\item 'Total\\_Stops'\n",
       "\\item 'Additional Info'\n",
       "\\item 'Price'\n",
       "\\end{enumerate*}\n"
      ],
      "text/markdown": [
       "1. 'Airline'\n",
       "2. 'Date_of_Journey'\n",
       "3. 'Source'\n",
       "4. 'Destination'\n",
       "5. 'Route'\n",
       "6. 'Dep_Time'\n",
       "7. 'Arrival_Time'\n",
       "8. 'Duration'\n",
       "9. 'Total_Stops'\n",
       "10. 'Additional Info'\n",
       "11. 'Price'\n",
       "\n",
       "\n"
      ],
      "text/plain": [
       " [1] \"Airline\"         \"Date_of_Journey\" \"Source\"          \"Destination\"    \n",
       " [5] \"Route\"           \"Dep_Time\"        \"Arrival_Time\"    \"Duration\"       \n",
       " [9] \"Total_Stops\"     \"Additional Info\" \"Price\"          "
      ]
     },
     "metadata": {},
     "output_type": "display_data"
    }
   ],
   "source": [
    "names(train_set)"
   ]
  },
  {
   "cell_type": "code",
   "execution_count": 6,
   "id": "401a59f3",
   "metadata": {},
   "outputs": [
    {
     "name": "stdout",
     "output_type": "stream",
     "text": [
      "tibble [10,683 x 11] (S3: tbl_df/tbl/data.frame)\n",
      " $ Airline        : chr [1:10683] \"IndiGo\" \"Air India\" \"Jet Airways\" \"IndiGo\" ...\n",
      " $ Date_of_Journey: chr [1:10683] \"24/03/2019\" \"1/05/2019\" \"9/06/2019\" \"12/05/2019\" ...\n",
      " $ Source         : chr [1:10683] \"Banglore\" \"Kolkata\" \"Delhi\" \"Kolkata\" ...\n",
      " $ Destination    : chr [1:10683] \"New Delhi\" \"Banglore\" \"Cochin\" \"Banglore\" ...\n",
      " $ Route          : chr [1:10683] \"BLR <U+2192> DEL\" \"CCU <U+2192> IXR <U+2192> BBI <U+2192> BLR\" \"DEL <U+2192> LKO <U+2192> BOM <U+2192> COK\" \"CCU <U+2192> NAG <U+2192> BLR\" ...\n",
      " $ Dep_Time       : chr [1:10683] \"22:20\" \"05:50\" \"09:25\" \"18:05\" ...\n",
      " $ Arrival_Time   : chr [1:10683] \"01:10 22 Mar\" \"13:15\" \"04:25 10 Jun\" \"23:30\" ...\n",
      " $ Duration       : chr [1:10683] \"2h 50m\" \"7h 25m\" \"19h\" \"5h 25m\" ...\n",
      " $ Total_Stops    : chr [1:10683] \"non-stop\" \"2 stops\" \"2 stops\" \"1 stop\" ...\n",
      " $ Additional Info: chr [1:10683] \"No info\" \"No info\" \"No info\" \"No info\" ...\n",
      " $ Price          : num [1:10683] 3898 7663 13883 6219 13303 ...\n"
     ]
    }
   ],
   "source": [
    "str(train_set)"
   ]
  },
  {
   "cell_type": "code",
   "execution_count": 7,
   "id": "4df21491-06e2-495c-a070-83d7b816eb9c",
   "metadata": {},
   "outputs": [
    {
     "data": {
      "text/plain": [
       "   Airline          Date_of_Journey       Source          Destination       \n",
       " Length:10683       Length:10683       Length:10683       Length:10683      \n",
       " Class :character   Class :character   Class :character   Class :character  \n",
       " Mode  :character   Mode  :character   Mode  :character   Mode  :character  \n",
       "                                                                            \n",
       "                                                                            \n",
       "                                                                            \n",
       "    Route             Dep_Time         Arrival_Time         Duration        \n",
       " Length:10683       Length:10683       Length:10683       Length:10683      \n",
       " Class :character   Class :character   Class :character   Class :character  \n",
       " Mode  :character   Mode  :character   Mode  :character   Mode  :character  \n",
       "                                                                            \n",
       "                                                                            \n",
       "                                                                            \n",
       " Total_Stops        Additional Info        Price      \n",
       " Length:10683       Length:10683       Min.   : 1760  \n",
       " Class :character   Class :character   1st Qu.: 5278  \n",
       " Mode  :character   Mode  :character   Median : 8373  \n",
       "                                       Mean   : 9088  \n",
       "                                       3rd Qu.:12374  \n",
       "                                       Max.   :79513  "
      ]
     },
     "metadata": {},
     "output_type": "display_data"
    }
   ],
   "source": [
    "summary(train_set)"
   ]
  },
  {
   "cell_type": "code",
   "execution_count": 8,
   "id": "657cfa30-fdaf-4a0c-baf6-055fa1f1f69e",
   "metadata": {},
   "outputs": [
    {
     "data": {
      "text/plain": [
       "  Airline        Date_of_Journey   Source        Destination    \n",
       " Mode :logical   Mode :logical   Mode :logical   Mode :logical  \n",
       " FALSE:10683     FALSE:10683     FALSE:10683     FALSE:10683    \n",
       "                                                                \n",
       "   Route          Dep_Time       Arrival_Time     Duration      \n",
       " Mode :logical   Mode :logical   Mode :logical   Mode :logical  \n",
       " FALSE:10682     FALSE:10683     FALSE:10683     FALSE:10683    \n",
       " TRUE :1                                                        \n",
       " Total_Stops     Additional Info   Price        \n",
       " Mode :logical   Mode :logical   Mode :logical  \n",
       " FALSE:10682     FALSE:10683     FALSE:10683    \n",
       " TRUE :1                                        "
      ]
     },
     "metadata": {},
     "output_type": "display_data"
    }
   ],
   "source": [
    "summary(is.na(train_set))"
   ]
  },
  {
   "cell_type": "code",
   "execution_count": 9,
   "id": "2c97cf85-1307-41f8-b3f5-8a8044167f34",
   "metadata": {
    "tags": []
   },
   "outputs": [
    {
     "data": {
      "text/html": [
       "<table class=\"dataframe\">\n",
       "<caption>A tibble: 2 × 11</caption>\n",
       "<thead>\n",
       "\t<tr><th scope=col>Airline</th><th scope=col>Date_of_Journey</th><th scope=col>Source</th><th scope=col>Destination</th><th scope=col>Route</th><th scope=col>Dep_Time</th><th scope=col>Arrival_Time</th><th scope=col>Duration</th><th scope=col>Total_Stops</th><th scope=col>Additional Info</th><th scope=col>Price</th></tr>\n",
       "\t<tr><th scope=col>&lt;chr&gt;</th><th scope=col>&lt;chr&gt;</th><th scope=col>&lt;chr&gt;</th><th scope=col>&lt;chr&gt;</th><th scope=col>&lt;chr&gt;</th><th scope=col>&lt;chr&gt;</th><th scope=col>&lt;chr&gt;</th><th scope=col>&lt;chr&gt;</th><th scope=col>&lt;chr&gt;</th><th scope=col>&lt;chr&gt;</th><th scope=col>&lt;dbl&gt;</th></tr>\n",
       "</thead>\n",
       "<tbody>\n",
       "\t<tr><td>NA</td><td>NA</td><td>NA</td><td>NA</td><td>NA</td><td>NA</td><td>NA</td><td>NA</td><td>NA</td><td>NA</td><td>NA</td></tr>\n",
       "\t<tr><td>NA</td><td>NA</td><td>NA</td><td>NA</td><td>NA</td><td>NA</td><td>NA</td><td>NA</td><td>NA</td><td>NA</td><td>NA</td></tr>\n",
       "</tbody>\n",
       "</table>\n"
      ],
      "text/latex": [
       "A tibble: 2 × 11\n",
       "\\begin{tabular}{lllllllllll}\n",
       " Airline & Date\\_of\\_Journey & Source & Destination & Route & Dep\\_Time & Arrival\\_Time & Duration & Total\\_Stops & Additional Info & Price\\\\\n",
       " <chr> & <chr> & <chr> & <chr> & <chr> & <chr> & <chr> & <chr> & <chr> & <chr> & <dbl>\\\\\n",
       "\\hline\n",
       "\t NA & NA & NA & NA & NA & NA & NA & NA & NA & NA & NA\\\\\n",
       "\t NA & NA & NA & NA & NA & NA & NA & NA & NA & NA & NA\\\\\n",
       "\\end{tabular}\n"
      ],
      "text/markdown": [
       "\n",
       "A tibble: 2 × 11\n",
       "\n",
       "| Airline &lt;chr&gt; | Date_of_Journey &lt;chr&gt; | Source &lt;chr&gt; | Destination &lt;chr&gt; | Route &lt;chr&gt; | Dep_Time &lt;chr&gt; | Arrival_Time &lt;chr&gt; | Duration &lt;chr&gt; | Total_Stops &lt;chr&gt; | Additional Info &lt;chr&gt; | Price &lt;dbl&gt; |\n",
       "|---|---|---|---|---|---|---|---|---|---|---|\n",
       "| NA | NA | NA | NA | NA | NA | NA | NA | NA | NA | NA |\n",
       "| NA | NA | NA | NA | NA | NA | NA | NA | NA | NA | NA |\n",
       "\n"
      ],
      "text/plain": [
       "  Airline Date_of_Journey Source Destination Route Dep_Time Arrival_Time\n",
       "1 NA      NA              NA     NA          NA    NA       NA          \n",
       "2 NA      NA              NA     NA          NA    NA       NA          \n",
       "  Duration Total_Stops Additional Info Price\n",
       "1 NA       NA          NA              NA   \n",
       "2 NA       NA          NA              NA   "
      ]
     },
     "metadata": {},
     "output_type": "display_data"
    }
   ],
   "source": [
    "miss = which(is.na(train_set))\n",
    "train_set[miss,]"
   ]
  },
  {
   "cell_type": "code",
   "execution_count": 10,
   "id": "ddb2af4f-0593-4b07-ab36-c0d9e9160e78",
   "metadata": {},
   "outputs": [
    {
     "data": {
      "text/plain": [
       "  Airline        Date_of_Journey   Source        Destination    \n",
       " Mode :logical   Mode :logical   Mode :logical   Mode :logical  \n",
       " FALSE:10682     FALSE:10682     FALSE:10682     FALSE:10682    \n",
       "   Route          Dep_Time       Arrival_Time     Duration      \n",
       " Mode :logical   Mode :logical   Mode :logical   Mode :logical  \n",
       " FALSE:10682     FALSE:10682     FALSE:10682     FALSE:10682    \n",
       " Total_Stops     Additional Info   Price        \n",
       " Mode :logical   Mode :logical   Mode :logical  \n",
       " FALSE:10682     FALSE:10682     FALSE:10682    "
      ]
     },
     "metadata": {},
     "output_type": "display_data"
    }
   ],
   "source": [
    "#Handling missing values\n",
    "train_set = na.omit(train_set)\n",
    "summary(is.na(train_set))"
   ]
  },
  {
   "cell_type": "code",
   "execution_count": 11,
   "id": "15c959c4-0086-44fc-8dae-65f9a0c0acf4",
   "metadata": {},
   "outputs": [
    {
     "data": {
      "text/html": [
       "<style>\n",
       ".list-inline {list-style: none; margin:0; padding: 0}\n",
       ".list-inline>li {display: inline-block}\n",
       ".list-inline>li:not(:last-child)::after {content: \"\\00b7\"; padding: 0 .5ex}\n",
       "</style>\n",
       "<ol class=list-inline><li>'non-stop'</li><li>'2 stops'</li><li>'1 stop'</li><li>'3 stops'</li><li>'4 stops'</li></ol>\n"
      ],
      "text/latex": [
       "\\begin{enumerate*}\n",
       "\\item 'non-stop'\n",
       "\\item '2 stops'\n",
       "\\item '1 stop'\n",
       "\\item '3 stops'\n",
       "\\item '4 stops'\n",
       "\\end{enumerate*}\n"
      ],
      "text/markdown": [
       "1. 'non-stop'\n",
       "2. '2 stops'\n",
       "3. '1 stop'\n",
       "4. '3 stops'\n",
       "5. '4 stops'\n",
       "\n",
       "\n"
      ],
      "text/plain": [
       "[1] \"non-stop\" \"2 stops\"  \"1 stop\"   \"3 stops\"  \"4 stops\" "
      ]
     },
     "metadata": {},
     "output_type": "display_data"
    },
    {
     "data": {
      "text/html": [
       "<style>\n",
       ".list-inline {list-style: none; margin:0; padding: 0}\n",
       ".list-inline>li {display: inline-block}\n",
       ".list-inline>li:not(:last-child)::after {content: \"\\00b7\"; padding: 0 .5ex}\n",
       "</style>\n",
       "<ol class=list-inline><li>'0'</li><li>'2'</li><li>'1'</li><li>'3'</li><li>'4'</li></ol>\n"
      ],
      "text/latex": [
       "\\begin{enumerate*}\n",
       "\\item '0'\n",
       "\\item '2'\n",
       "\\item '1'\n",
       "\\item '3'\n",
       "\\item '4'\n",
       "\\end{enumerate*}\n"
      ],
      "text/markdown": [
       "1. '0'\n",
       "2. '2'\n",
       "3. '1'\n",
       "4. '3'\n",
       "5. '4'\n",
       "\n",
       "\n"
      ],
      "text/plain": [
       "[1] \"0\" \"2\" \"1\" \"3\" \"4\""
      ]
     },
     "metadata": {},
     "output_type": "display_data"
    },
    {
     "data": {
      "text/html": [
       "<style>\n",
       ".list-inline {list-style: none; margin:0; padding: 0}\n",
       ".list-inline>li {display: inline-block}\n",
       ".list-inline>li:not(:last-child)::after {content: \"\\00b7\"; padding: 0 .5ex}\n",
       "</style>\n",
       "<ol class=list-inline><li>0</li><li>2</li><li>2</li><li>1</li><li>1</li><li>0</li></ol>\n"
      ],
      "text/latex": [
       "\\begin{enumerate*}\n",
       "\\item 0\n",
       "\\item 2\n",
       "\\item 2\n",
       "\\item 1\n",
       "\\item 1\n",
       "\\item 0\n",
       "\\end{enumerate*}\n"
      ],
      "text/markdown": [
       "1. 0\n",
       "2. 2\n",
       "3. 2\n",
       "4. 1\n",
       "5. 1\n",
       "6. 0\n",
       "\n",
       "\n"
      ],
      "text/plain": [
       "[1] 0 2 2 1 1 0"
      ]
     },
     "metadata": {},
     "output_type": "display_data"
    }
   ],
   "source": [
    "#Suitable data type for the column\n",
    "unique(train_set$Total_Stops)\n",
    "train_set$Total_Stops <- replace(train_set$Total_Stops,train_set$Total_Stops == \"non-stop\",0)\n",
    "train_set$Total_Stops <- replace(train_set$Total_Stops,train_set$Total_Stops == \"1 stop\",1)\n",
    "train_set$Total_Stops <- replace(train_set$Total_Stops,train_set$Total_Stops == \"2 stops\",2)\n",
    "train_set$Total_Stops <- replace(train_set$Total_Stops,train_set$Total_Stops == \"3 stops\",3)\n",
    "train_set$Total_Stops <- replace(train_set$Total_Stops,train_set$Total_Stops == \"4 stops\",4)\n",
    "unique(train_set$Total_Stops)\n",
    "\n",
    "class(train_set$Total_Stops) <- \"integer\"\n",
    "head(train_set$Total_Stops)"
   ]
  },
  {
   "cell_type": "code",
   "execution_count": 12,
   "id": "b0ab1538-0418-4c47-8f43-3e26aa168068",
   "metadata": {},
   "outputs": [],
   "source": [
    "#Suitable metrics for the column\n",
    "duration <- c()\n",
    "for (each in train_set$Duration) {\n",
    "  dur <- 0\n",
    "  if(unlist(gregexpr(\"h\",each)) != -1){\n",
    "    dur <- dur + as.integer(substr(each,1,unlist(gregexpr(\"h\",each))-1))*60\n",
    "  }\n",
    "  if(unlist(gregexpr(\"m\",each)) != -1){\n",
    "    if(unlist(gregexpr(\"h\",each)) != -1){\n",
    "      dur <- dur + as.integer(substr(each,unlist(gregexpr(\"h\",each))+1,unlist(gregexpr(\"m\",each))-1))\n",
    "    }\n",
    "    else{\n",
    "      dur <- dur + as.integer(substr(each,1,unlist(gregexpr(\"h\",each))-1))\n",
    "    }\n",
    "  }\n",
    "  duration <- c(duration,dur)\n",
    "}\n",
    "train_set[\"Duration (in mins)\"] <- duration"
   ]
  },
  {
   "cell_type": "code",
   "execution_count": 13,
   "id": "fcf83924-7dc8-4fb9-8228-89f6c42869ff",
   "metadata": {},
   "outputs": [],
   "source": [
    "dates <- c()\n",
    "for (each in train_set$Date_of_Journey) {\n",
    "  date <- as.Date(each,\"%d/%m/%Y\")\n",
    "  dates <- c(dates, date)\n",
    "}\n",
    "train_set$`Date of Journey` <- dates\n",
    "train_set$`Date of Journey` <- as.Date(train_set$`Date of Journey`,origin = \"1970-01-01\")"
   ]
  },
  {
   "cell_type": "code",
   "execution_count": 14,
   "id": "94fef520-03c4-44ca-a2c8-4017f72a7aad",
   "metadata": {},
   "outputs": [
    {
     "data": {
      "text/html": [
       "<style>\n",
       ".list-inline {list-style: none; margin:0; padding: 0}\n",
       ".list-inline>li {display: inline-block}\n",
       ".list-inline>li:not(:last-child)::after {content: \"\\00b7\"; padding: 0 .5ex}\n",
       "</style>\n",
       "<ol class=list-inline><li>'IndiGo'</li><li>'Air India'</li><li>'Jet Airways'</li><li>'SpiceJet'</li><li>'Multiple carriers'</li><li>'GoAir'</li><li>'Vistara'</li><li>'Air Asia'</li><li>'Vistara Premium economy'</li><li>'Jet Airways Business'</li><li>'Multiple carriers Premium economy'</li><li>'Trujet'</li></ol>\n"
      ],
      "text/latex": [
       "\\begin{enumerate*}\n",
       "\\item 'IndiGo'\n",
       "\\item 'Air India'\n",
       "\\item 'Jet Airways'\n",
       "\\item 'SpiceJet'\n",
       "\\item 'Multiple carriers'\n",
       "\\item 'GoAir'\n",
       "\\item 'Vistara'\n",
       "\\item 'Air Asia'\n",
       "\\item 'Vistara Premium economy'\n",
       "\\item 'Jet Airways Business'\n",
       "\\item 'Multiple carriers Premium economy'\n",
       "\\item 'Trujet'\n",
       "\\end{enumerate*}\n"
      ],
      "text/markdown": [
       "1. 'IndiGo'\n",
       "2. 'Air India'\n",
       "3. 'Jet Airways'\n",
       "4. 'SpiceJet'\n",
       "5. 'Multiple carriers'\n",
       "6. 'GoAir'\n",
       "7. 'Vistara'\n",
       "8. 'Air Asia'\n",
       "9. 'Vistara Premium economy'\n",
       "10. 'Jet Airways Business'\n",
       "11. 'Multiple carriers Premium economy'\n",
       "12. 'Trujet'\n",
       "\n",
       "\n"
      ],
      "text/plain": [
       " [1] \"IndiGo\"                            \"Air India\"                        \n",
       " [3] \"Jet Airways\"                       \"SpiceJet\"                         \n",
       " [5] \"Multiple carriers\"                 \"GoAir\"                            \n",
       " [7] \"Vistara\"                           \"Air Asia\"                         \n",
       " [9] \"Vistara Premium economy\"           \"Jet Airways Business\"             \n",
       "[11] \"Multiple carriers Premium economy\" \"Trujet\"                           "
      ]
     },
     "metadata": {},
     "output_type": "display_data"
    }
   ],
   "source": [
    "unique(train_set$Airline)\n",
    "lb = LabelEncoder$new()\n",
    "lb$fit(train_set$Airline)\n",
    "train_set$Airline = lb$fit_transform(train_set$Airline)"
   ]
  },
  {
   "cell_type": "code",
   "execution_count": 15,
   "id": "e3e517dc-2a1b-4fb1-baaf-7e710f85f7a9",
   "metadata": {},
   "outputs": [
    {
     "data": {
      "text/html": [
       "<table class=\"dataframe\">\n",
       "<caption>A tibble: 10682 × 5</caption>\n",
       "<thead>\n",
       "\t<tr><th scope=col>Airline</th><th scope=col>Total_Stops</th><th scope=col>Date of Journey</th><th scope=col>Duration (in mins)</th><th scope=col>Price</th></tr>\n",
       "\t<tr><th scope=col>&lt;dbl&gt;</th><th scope=col>&lt;int&gt;</th><th scope=col>&lt;date&gt;</th><th scope=col>&lt;dbl&gt;</th><th scope=col>&lt;dbl&gt;</th></tr>\n",
       "</thead>\n",
       "<tbody>\n",
       "\t<tr><td>0</td><td>0</td><td>2019-03-24</td><td> 170</td><td> 3898</td></tr>\n",
       "\t<tr><td>1</td><td>2</td><td>2019-05-01</td><td> 445</td><td> 7663</td></tr>\n",
       "\t<tr><td>2</td><td>2</td><td>2019-06-09</td><td>1140</td><td>13883</td></tr>\n",
       "\t<tr><td>0</td><td>1</td><td>2019-05-12</td><td> 325</td><td> 6219</td></tr>\n",
       "\t<tr><td>0</td><td>1</td><td>2019-03-01</td><td> 285</td><td>13303</td></tr>\n",
       "\t<tr><td>3</td><td>0</td><td>2019-06-24</td><td> 145</td><td> 3874</td></tr>\n",
       "\t<tr><td>2</td><td>1</td><td>2019-03-12</td><td> 930</td><td>11088</td></tr>\n",
       "\t<tr><td>2</td><td>1</td><td>2019-03-01</td><td>1265</td><td>22271</td></tr>\n",
       "\t<tr><td>2</td><td>1</td><td>2019-03-12</td><td>1530</td><td>11088</td></tr>\n",
       "\t<tr><td>4</td><td>1</td><td>2019-05-27</td><td> 470</td><td> 8626</td></tr>\n",
       "\t<tr><td>1</td><td>1</td><td>2019-06-01</td><td> 795</td><td> 8908</td></tr>\n",
       "\t<tr><td>0</td><td>0</td><td>2019-04-18</td><td> 155</td><td> 4175</td></tr>\n",
       "\t<tr><td>1</td><td>0</td><td>2019-06-24</td><td> 135</td><td> 4668</td></tr>\n",
       "\t<tr><td>2</td><td>1</td><td>2019-05-09</td><td> 730</td><td> 9664</td></tr>\n",
       "\t<tr><td>0</td><td>0</td><td>2019-04-24</td><td> 155</td><td> 4805</td></tr>\n",
       "\t<tr><td>1</td><td>2</td><td>2019-03-03</td><td>1595</td><td>14012</td></tr>\n",
       "\t<tr><td>3</td><td>1</td><td>2019-04-15</td><td> 270</td><td> 5831</td></tr>\n",
       "\t<tr><td>2</td><td>1</td><td>2019-06-12</td><td>1355</td><td>10263</td></tr>\n",
       "\t<tr><td>1</td><td>2</td><td>2019-06-12</td><td>1380</td><td>13382</td></tr>\n",
       "\t<tr><td>2</td><td>1</td><td>2019-05-27</td><td>1235</td><td>12899</td></tr>\n",
       "\t<tr><td>5</td><td>1</td><td>2019-03-06</td><td> 310</td><td>19496</td></tr>\n",
       "\t<tr><td>1</td><td>1</td><td>2019-03-21</td><td> 920</td><td> 6956</td></tr>\n",
       "\t<tr><td>0</td><td>0</td><td>2019-04-03</td><td> 170</td><td> 3944</td></tr>\n",
       "\t<tr><td>0</td><td>0</td><td>2019-05-01</td><td> 175</td><td> 4824</td></tr>\n",
       "\t<tr><td>2</td><td>1</td><td>2019-05-06</td><td> 800</td><td> 7758</td></tr>\n",
       "\t<tr><td>2</td><td>2</td><td>2019-06-09</td><td> 910</td><td>13293</td></tr>\n",
       "\t<tr><td>0</td><td>1</td><td>2019-06-01</td><td> 345</td><td> 8239</td></tr>\n",
       "\t<tr><td>5</td><td>1</td><td>2019-05-15</td><td> 355</td><td> 7683</td></tr>\n",
       "\t<tr><td>6</td><td>0</td><td>2019-06-18</td><td> 170</td><td> 4669</td></tr>\n",
       "\t<tr><td>6</td><td>0</td><td>2019-06-15</td><td> 135</td><td> 3688</td></tr>\n",
       "\t<tr><td>...</td><td>...</td><td>...</td><td>...</td><td>...</td></tr>\n",
       "\t<tr><td>2</td><td>1</td><td>2019-05-01</td><td>1315</td><td>14389</td></tr>\n",
       "\t<tr><td>3</td><td>0</td><td>2019-06-12</td><td> 160</td><td> 4320</td></tr>\n",
       "\t<tr><td>2</td><td>0</td><td>2019-05-03</td><td>  85</td><td> 5679</td></tr>\n",
       "\t<tr><td>6</td><td>0</td><td>2019-04-06</td><td> 160</td><td> 5614</td></tr>\n",
       "\t<tr><td>2</td><td>1</td><td>2019-05-06</td><td> 800</td><td> 9664</td></tr>\n",
       "\t<tr><td>2</td><td>0</td><td>2019-06-18</td><td> 175</td><td> 5770</td></tr>\n",
       "\t<tr><td>6</td><td>0</td><td>2019-05-01</td><td> 170</td><td> 4669</td></tr>\n",
       "\t<tr><td>6</td><td>0</td><td>2019-03-21</td><td> 175</td><td> 4879</td></tr>\n",
       "\t<tr><td>1</td><td>1</td><td>2019-05-09</td><td> 375</td><td> 8373</td></tr>\n",
       "\t<tr><td>1</td><td>2</td><td>2019-03-24</td><td>1210</td><td>12353</td></tr>\n",
       "\t<tr><td>2</td><td>2</td><td>2019-06-06</td><td>1025</td><td>11734</td></tr>\n",
       "\t<tr><td>0</td><td>0</td><td>2019-04-09</td><td> 175</td><td> 4824</td></tr>\n",
       "\t<tr><td>0</td><td>0</td><td>2019-04-27</td><td> 150</td><td> 4805</td></tr>\n",
       "\t<tr><td>2</td><td>1</td><td>2019-06-12</td><td>1485</td><td>10263</td></tr>\n",
       "\t<tr><td>2</td><td>1</td><td>2019-03-12</td><td>1285</td><td>11088</td></tr>\n",
       "\t<tr><td>2</td><td>2</td><td>2019-05-09</td><td> 440</td><td>21220</td></tr>\n",
       "\t<tr><td>1</td><td>1</td><td>2019-06-15</td><td> 675</td><td> 9930</td></tr>\n",
       "\t<tr><td>1</td><td>2</td><td>2019-05-12</td><td>1045</td><td>11412</td></tr>\n",
       "\t<tr><td>1</td><td>0</td><td>2019-06-06</td><td>  80</td><td> 3101</td></tr>\n",
       "\t<tr><td>2</td><td>2</td><td>2019-06-27</td><td>1195</td><td>11151</td></tr>\n",
       "\t<tr><td>2</td><td>2</td><td>2019-05-27</td><td> 900</td><td>16705</td></tr>\n",
       "\t<tr><td>2</td><td>1</td><td>2019-03-12</td><td>1485</td><td>11088</td></tr>\n",
       "\t<tr><td>1</td><td>0</td><td>2019-06-09</td><td>  80</td><td> 3101</td></tr>\n",
       "\t<tr><td>4</td><td>1</td><td>2019-05-01</td><td> 520</td><td> 9795</td></tr>\n",
       "\t<tr><td>3</td><td>0</td><td>2019-05-21</td><td> 160</td><td> 3258</td></tr>\n",
       "\t<tr><td>7</td><td>0</td><td>2019-04-09</td><td> 150</td><td> 4108</td></tr>\n",
       "\t<tr><td>1</td><td>0</td><td>2019-04-27</td><td> 155</td><td> 4146</td></tr>\n",
       "\t<tr><td>2</td><td>0</td><td>2019-04-27</td><td> 180</td><td> 7230</td></tr>\n",
       "\t<tr><td>6</td><td>0</td><td>2019-03-01</td><td> 160</td><td>12649</td></tr>\n",
       "\t<tr><td>1</td><td>2</td><td>2019-05-09</td><td> 500</td><td>11754</td></tr>\n",
       "</tbody>\n",
       "</table>\n"
      ],
      "text/latex": [
       "A tibble: 10682 × 5\n",
       "\\begin{tabular}{lllll}\n",
       " Airline & Total\\_Stops & Date of Journey & Duration (in mins) & Price\\\\\n",
       " <dbl> & <int> & <date> & <dbl> & <dbl>\\\\\n",
       "\\hline\n",
       "\t 0 & 0 & 2019-03-24 &  170 &  3898\\\\\n",
       "\t 1 & 2 & 2019-05-01 &  445 &  7663\\\\\n",
       "\t 2 & 2 & 2019-06-09 & 1140 & 13883\\\\\n",
       "\t 0 & 1 & 2019-05-12 &  325 &  6219\\\\\n",
       "\t 0 & 1 & 2019-03-01 &  285 & 13303\\\\\n",
       "\t 3 & 0 & 2019-06-24 &  145 &  3874\\\\\n",
       "\t 2 & 1 & 2019-03-12 &  930 & 11088\\\\\n",
       "\t 2 & 1 & 2019-03-01 & 1265 & 22271\\\\\n",
       "\t 2 & 1 & 2019-03-12 & 1530 & 11088\\\\\n",
       "\t 4 & 1 & 2019-05-27 &  470 &  8626\\\\\n",
       "\t 1 & 1 & 2019-06-01 &  795 &  8908\\\\\n",
       "\t 0 & 0 & 2019-04-18 &  155 &  4175\\\\\n",
       "\t 1 & 0 & 2019-06-24 &  135 &  4668\\\\\n",
       "\t 2 & 1 & 2019-05-09 &  730 &  9664\\\\\n",
       "\t 0 & 0 & 2019-04-24 &  155 &  4805\\\\\n",
       "\t 1 & 2 & 2019-03-03 & 1595 & 14012\\\\\n",
       "\t 3 & 1 & 2019-04-15 &  270 &  5831\\\\\n",
       "\t 2 & 1 & 2019-06-12 & 1355 & 10263\\\\\n",
       "\t 1 & 2 & 2019-06-12 & 1380 & 13382\\\\\n",
       "\t 2 & 1 & 2019-05-27 & 1235 & 12899\\\\\n",
       "\t 5 & 1 & 2019-03-06 &  310 & 19496\\\\\n",
       "\t 1 & 1 & 2019-03-21 &  920 &  6956\\\\\n",
       "\t 0 & 0 & 2019-04-03 &  170 &  3944\\\\\n",
       "\t 0 & 0 & 2019-05-01 &  175 &  4824\\\\\n",
       "\t 2 & 1 & 2019-05-06 &  800 &  7758\\\\\n",
       "\t 2 & 2 & 2019-06-09 &  910 & 13293\\\\\n",
       "\t 0 & 1 & 2019-06-01 &  345 &  8239\\\\\n",
       "\t 5 & 1 & 2019-05-15 &  355 &  7683\\\\\n",
       "\t 6 & 0 & 2019-06-18 &  170 &  4669\\\\\n",
       "\t 6 & 0 & 2019-06-15 &  135 &  3688\\\\\n",
       "\t ... & ... & ... & ... & ...\\\\\n",
       "\t 2 & 1 & 2019-05-01 & 1315 & 14389\\\\\n",
       "\t 3 & 0 & 2019-06-12 &  160 &  4320\\\\\n",
       "\t 2 & 0 & 2019-05-03 &   85 &  5679\\\\\n",
       "\t 6 & 0 & 2019-04-06 &  160 &  5614\\\\\n",
       "\t 2 & 1 & 2019-05-06 &  800 &  9664\\\\\n",
       "\t 2 & 0 & 2019-06-18 &  175 &  5770\\\\\n",
       "\t 6 & 0 & 2019-05-01 &  170 &  4669\\\\\n",
       "\t 6 & 0 & 2019-03-21 &  175 &  4879\\\\\n",
       "\t 1 & 1 & 2019-05-09 &  375 &  8373\\\\\n",
       "\t 1 & 2 & 2019-03-24 & 1210 & 12353\\\\\n",
       "\t 2 & 2 & 2019-06-06 & 1025 & 11734\\\\\n",
       "\t 0 & 0 & 2019-04-09 &  175 &  4824\\\\\n",
       "\t 0 & 0 & 2019-04-27 &  150 &  4805\\\\\n",
       "\t 2 & 1 & 2019-06-12 & 1485 & 10263\\\\\n",
       "\t 2 & 1 & 2019-03-12 & 1285 & 11088\\\\\n",
       "\t 2 & 2 & 2019-05-09 &  440 & 21220\\\\\n",
       "\t 1 & 1 & 2019-06-15 &  675 &  9930\\\\\n",
       "\t 1 & 2 & 2019-05-12 & 1045 & 11412\\\\\n",
       "\t 1 & 0 & 2019-06-06 &   80 &  3101\\\\\n",
       "\t 2 & 2 & 2019-06-27 & 1195 & 11151\\\\\n",
       "\t 2 & 2 & 2019-05-27 &  900 & 16705\\\\\n",
       "\t 2 & 1 & 2019-03-12 & 1485 & 11088\\\\\n",
       "\t 1 & 0 & 2019-06-09 &   80 &  3101\\\\\n",
       "\t 4 & 1 & 2019-05-01 &  520 &  9795\\\\\n",
       "\t 3 & 0 & 2019-05-21 &  160 &  3258\\\\\n",
       "\t 7 & 0 & 2019-04-09 &  150 &  4108\\\\\n",
       "\t 1 & 0 & 2019-04-27 &  155 &  4146\\\\\n",
       "\t 2 & 0 & 2019-04-27 &  180 &  7230\\\\\n",
       "\t 6 & 0 & 2019-03-01 &  160 & 12649\\\\\n",
       "\t 1 & 2 & 2019-05-09 &  500 & 11754\\\\\n",
       "\\end{tabular}\n"
      ],
      "text/markdown": [
       "\n",
       "A tibble: 10682 × 5\n",
       "\n",
       "| Airline &lt;dbl&gt; | Total_Stops &lt;int&gt; | Date of Journey &lt;date&gt; | Duration (in mins) &lt;dbl&gt; | Price &lt;dbl&gt; |\n",
       "|---|---|---|---|---|\n",
       "| 0 | 0 | 2019-03-24 |  170 |  3898 |\n",
       "| 1 | 2 | 2019-05-01 |  445 |  7663 |\n",
       "| 2 | 2 | 2019-06-09 | 1140 | 13883 |\n",
       "| 0 | 1 | 2019-05-12 |  325 |  6219 |\n",
       "| 0 | 1 | 2019-03-01 |  285 | 13303 |\n",
       "| 3 | 0 | 2019-06-24 |  145 |  3874 |\n",
       "| 2 | 1 | 2019-03-12 |  930 | 11088 |\n",
       "| 2 | 1 | 2019-03-01 | 1265 | 22271 |\n",
       "| 2 | 1 | 2019-03-12 | 1530 | 11088 |\n",
       "| 4 | 1 | 2019-05-27 |  470 |  8626 |\n",
       "| 1 | 1 | 2019-06-01 |  795 |  8908 |\n",
       "| 0 | 0 | 2019-04-18 |  155 |  4175 |\n",
       "| 1 | 0 | 2019-06-24 |  135 |  4668 |\n",
       "| 2 | 1 | 2019-05-09 |  730 |  9664 |\n",
       "| 0 | 0 | 2019-04-24 |  155 |  4805 |\n",
       "| 1 | 2 | 2019-03-03 | 1595 | 14012 |\n",
       "| 3 | 1 | 2019-04-15 |  270 |  5831 |\n",
       "| 2 | 1 | 2019-06-12 | 1355 | 10263 |\n",
       "| 1 | 2 | 2019-06-12 | 1380 | 13382 |\n",
       "| 2 | 1 | 2019-05-27 | 1235 | 12899 |\n",
       "| 5 | 1 | 2019-03-06 |  310 | 19496 |\n",
       "| 1 | 1 | 2019-03-21 |  920 |  6956 |\n",
       "| 0 | 0 | 2019-04-03 |  170 |  3944 |\n",
       "| 0 | 0 | 2019-05-01 |  175 |  4824 |\n",
       "| 2 | 1 | 2019-05-06 |  800 |  7758 |\n",
       "| 2 | 2 | 2019-06-09 |  910 | 13293 |\n",
       "| 0 | 1 | 2019-06-01 |  345 |  8239 |\n",
       "| 5 | 1 | 2019-05-15 |  355 |  7683 |\n",
       "| 6 | 0 | 2019-06-18 |  170 |  4669 |\n",
       "| 6 | 0 | 2019-06-15 |  135 |  3688 |\n",
       "| ... | ... | ... | ... | ... |\n",
       "| 2 | 1 | 2019-05-01 | 1315 | 14389 |\n",
       "| 3 | 0 | 2019-06-12 |  160 |  4320 |\n",
       "| 2 | 0 | 2019-05-03 |   85 |  5679 |\n",
       "| 6 | 0 | 2019-04-06 |  160 |  5614 |\n",
       "| 2 | 1 | 2019-05-06 |  800 |  9664 |\n",
       "| 2 | 0 | 2019-06-18 |  175 |  5770 |\n",
       "| 6 | 0 | 2019-05-01 |  170 |  4669 |\n",
       "| 6 | 0 | 2019-03-21 |  175 |  4879 |\n",
       "| 1 | 1 | 2019-05-09 |  375 |  8373 |\n",
       "| 1 | 2 | 2019-03-24 | 1210 | 12353 |\n",
       "| 2 | 2 | 2019-06-06 | 1025 | 11734 |\n",
       "| 0 | 0 | 2019-04-09 |  175 |  4824 |\n",
       "| 0 | 0 | 2019-04-27 |  150 |  4805 |\n",
       "| 2 | 1 | 2019-06-12 | 1485 | 10263 |\n",
       "| 2 | 1 | 2019-03-12 | 1285 | 11088 |\n",
       "| 2 | 2 | 2019-05-09 |  440 | 21220 |\n",
       "| 1 | 1 | 2019-06-15 |  675 |  9930 |\n",
       "| 1 | 2 | 2019-05-12 | 1045 | 11412 |\n",
       "| 1 | 0 | 2019-06-06 |   80 |  3101 |\n",
       "| 2 | 2 | 2019-06-27 | 1195 | 11151 |\n",
       "| 2 | 2 | 2019-05-27 |  900 | 16705 |\n",
       "| 2 | 1 | 2019-03-12 | 1485 | 11088 |\n",
       "| 1 | 0 | 2019-06-09 |   80 |  3101 |\n",
       "| 4 | 1 | 2019-05-01 |  520 |  9795 |\n",
       "| 3 | 0 | 2019-05-21 |  160 |  3258 |\n",
       "| 7 | 0 | 2019-04-09 |  150 |  4108 |\n",
       "| 1 | 0 | 2019-04-27 |  155 |  4146 |\n",
       "| 2 | 0 | 2019-04-27 |  180 |  7230 |\n",
       "| 6 | 0 | 2019-03-01 |  160 | 12649 |\n",
       "| 1 | 2 | 2019-05-09 |  500 | 11754 |\n",
       "\n"
      ],
      "text/plain": [
       "      Airline Total_Stops Date of Journey Duration (in mins) Price\n",
       "1     0       0           2019-03-24       170                3898\n",
       "2     1       2           2019-05-01       445                7663\n",
       "3     2       2           2019-06-09      1140               13883\n",
       "4     0       1           2019-05-12       325                6219\n",
       "5     0       1           2019-03-01       285               13303\n",
       "6     3       0           2019-06-24       145                3874\n",
       "7     2       1           2019-03-12       930               11088\n",
       "8     2       1           2019-03-01      1265               22271\n",
       "9     2       1           2019-03-12      1530               11088\n",
       "10    4       1           2019-05-27       470                8626\n",
       "11    1       1           2019-06-01       795                8908\n",
       "12    0       0           2019-04-18       155                4175\n",
       "13    1       0           2019-06-24       135                4668\n",
       "14    2       1           2019-05-09       730                9664\n",
       "15    0       0           2019-04-24       155                4805\n",
       "16    1       2           2019-03-03      1595               14012\n",
       "17    3       1           2019-04-15       270                5831\n",
       "18    2       1           2019-06-12      1355               10263\n",
       "19    1       2           2019-06-12      1380               13382\n",
       "20    2       1           2019-05-27      1235               12899\n",
       "21    5       1           2019-03-06       310               19496\n",
       "22    1       1           2019-03-21       920                6956\n",
       "23    0       0           2019-04-03       170                3944\n",
       "24    0       0           2019-05-01       175                4824\n",
       "25    2       1           2019-05-06       800                7758\n",
       "26    2       2           2019-06-09       910               13293\n",
       "27    0       1           2019-06-01       345                8239\n",
       "28    5       1           2019-05-15       355                7683\n",
       "29    6       0           2019-06-18       170                4669\n",
       "30    6       0           2019-06-15       135                3688\n",
       "...   ...     ...         ...             ...                ...  \n",
       "10653 2       1           2019-05-01      1315               14389\n",
       "10654 3       0           2019-06-12       160                4320\n",
       "10655 2       0           2019-05-03        85                5679\n",
       "10656 6       0           2019-04-06       160                5614\n",
       "10657 2       1           2019-05-06       800                9664\n",
       "10658 2       0           2019-06-18       175                5770\n",
       "10659 6       0           2019-05-01       170                4669\n",
       "10660 6       0           2019-03-21       175                4879\n",
       "10661 1       1           2019-05-09       375                8373\n",
       "10662 1       2           2019-03-24      1210               12353\n",
       "10663 2       2           2019-06-06      1025               11734\n",
       "10664 0       0           2019-04-09       175                4824\n",
       "10665 0       0           2019-04-27       150                4805\n",
       "10666 2       1           2019-06-12      1485               10263\n",
       "10667 2       1           2019-03-12      1285               11088\n",
       "10668 2       2           2019-05-09       440               21220\n",
       "10669 1       1           2019-06-15       675                9930\n",
       "10670 1       2           2019-05-12      1045               11412\n",
       "10671 1       0           2019-06-06        80                3101\n",
       "10672 2       2           2019-06-27      1195               11151\n",
       "10673 2       2           2019-05-27       900               16705\n",
       "10674 2       1           2019-03-12      1485               11088\n",
       "10675 1       0           2019-06-09        80                3101\n",
       "10676 4       1           2019-05-01       520                9795\n",
       "10677 3       0           2019-05-21       160                3258\n",
       "10678 7       0           2019-04-09       150                4108\n",
       "10679 1       0           2019-04-27       155                4146\n",
       "10680 2       0           2019-04-27       180                7230\n",
       "10681 6       0           2019-03-01       160               12649\n",
       "10682 1       2           2019-05-09       500               11754"
      ]
     },
     "metadata": {},
     "output_type": "display_data"
    }
   ],
   "source": [
    "#Dropping columns which are of no use\n",
    "train_set <- subset(train_set, select = -c(Route,Dep_Time,Arrival_Time,`Additional Info`,Duration,Source,Destination,Date_of_Journey))\n",
    "train_set <- train_set[,c(1,2,5,4,3)]\n",
    "View(train_set)"
   ]
  },
  {
   "cell_type": "code",
   "execution_count": null,
   "id": "1a2a1d9a-b791-4d2a-bdb7-1c48b4f33ebf",
   "metadata": {},
   "outputs": [],
   "source": []
  }
 ],
 "metadata": {
  "kernelspec": {
   "display_name": "R",
   "language": "R",
   "name": "ir"
  },
  "language_info": {
   "codemirror_mode": "r",
   "file_extension": ".r",
   "mimetype": "text/x-r-source",
   "name": "R",
   "pygments_lexer": "r",
   "version": "4.1.2"
  }
 },
 "nbformat": 4,
 "nbformat_minor": 5
}
